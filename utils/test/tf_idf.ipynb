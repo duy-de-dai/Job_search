{
 "cells": [
  {
   "cell_type": "code",
   "execution_count": null,
   "metadata": {},
   "outputs": [],
   "source": [
    "from collections import defaultdict\n",
    "import math\n",
    "\n",
    "\n",
    "def tf(freq):\n",
    "    return 1 + math.log(freq)\n",
    "\n",
    "\n",
    "def idf(df, num_docs):\n",
    "    return math.log(num_docs / df)\n",
    "\n",
    "\n",
    "def build_inverted_index(urls, corpora, index_db):\n",
    "    for url, bow in corpora:\n",
    "        urls.append(url)\n",
    "        index = len(urls) - 1\n",
    "\n",
    "        for term, freq in bow.items():\n",
    "            if index_db.get(term, None) is None:\n",
    "                index_db[term] = {}\n",
    "\n",
    "            if index_db[term].get('df', None) is None:\n",
    "                index_db[term]['df'] = 0\n",
    "\n",
    "            if index_db[term].get('postings_list', None) is None:\n",
    "                index_db[term]['postings_list'] = {}\n",
    "\n",
    "            index_db[term]['df'] += 1\n",
    "            index_db[term]['postings_list'][index] = freq\n",
    "\n",
    "            index_db.sync()\n",
    "\n",
    "        index_db.sync()\n"
   ]
  }
 ],
 "metadata": {
  "language_info": {
   "name": "python"
  }
 },
 "nbformat": 4,
 "nbformat_minor": 2
}
