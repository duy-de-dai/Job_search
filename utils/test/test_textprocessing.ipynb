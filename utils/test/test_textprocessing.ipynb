{
 "cells": [
  {
   "cell_type": "code",
   "execution_count": 2,
   "metadata": {},
   "outputs": [],
   "source": [
    "import unicodedata\n",
    "import re\n",
    "from collections import Counter\n",
    "from underthesea import word_tokenize\n",
    "\n",
    "\n",
    "def remove_accents(text):\n",
    "    # https://stackoverflow.com/questions/517923/what-is-the-best-way-to-remove-accents-in-a-python-unicode-string\n",
    "    no_accents_text = ''.join((c for c in unicodedata.normalize('NFD', text) if unicodedata.category(c) != 'Mn'))\n",
    "    return no_accents_text.replace('đ', 'd')\n",
    "\n",
    "\n",
    "def clean_text(text):\n",
    "    pattern = re.compile(r'[^áàảãạâấầẩẫậăẵẳắằặđéèẻẽẹêếềểễệíìịỉĩóòõỏọôốồổộỗơớờởỡợúùũủụưứừửữựýỳỷỹỵ\\sa-z_]')\n",
    "    cleaned_text = re.sub(pattern, ' ', text)\n",
    "    \n",
    "    # Loại bỏ các dấu cách dư thừa, chỉ giữ lại một dấu cách\n",
    "    cleaned_text = re.sub(r'\\s+', ' ', cleaned_text).strip()\n",
    "    \n",
    "    return cleaned_text.lower()\n",
    "\n",
    "def remove_stopwords(text, stopwords_set):\n",
    "    tokens = [token for token in text.split() if token not in stopwords_set]\n",
    "    return tokens\n",
    "\n",
    "\n",
    "def preprocess_text(text, stopwords_set):\n",
    "    processed_text = clean_text(text.lower())\n",
    "    processed_text = word_tokenize(processed_text, format='text')\n",
    "    processed_text = processed_text.lower()\n",
    "    \n",
    "    tokens = remove_stopwords(processed_text, stopwords_set)\n",
    "    # tokens = [token for token in tokens]\n",
    "    return tokens"
   ]
  },
  {
   "cell_type": "code",
   "execution_count": 18,
   "metadata": {},
   "outputs": [],
   "source": [
    "\n",
    "text = '[LAI CHÂU] CHUYÊN VIÊN KINH DOANH'\n",
    "text = clean_text(text.lower())"
   ]
  },
  {
   "cell_type": "code",
   "execution_count": 27,
   "metadata": {},
   "outputs": [],
   "source": [
    "stopwords_set = {'ai_đó', 'alô', 'và', 'sau_đây'}"
   ]
  },
  {
   "cell_type": "code",
   "execution_count": 6,
   "metadata": {},
   "outputs": [
    {
     "data": {
      "text/plain": [
       "['lai_châu', 'chuyên_viên', 'kinh_doanh']"
      ]
     },
     "execution_count": 6,
     "metadata": {},
     "output_type": "execute_result"
    }
   ],
   "source": [
    "text = '[LAI CHÂU] ! CHUYÊN VIÊN KINH DOANH'\n",
    "stopwords_set = {'ai_đó', 'alô', 'và', 'sau_đây'}\n",
    "preprocess_text(text,stopwords_set)"
   ]
  },
  {
   "cell_type": "code",
   "execution_count": 19,
   "metadata": {},
   "outputs": [],
   "source": [
    "\n",
    "text = word_tokenize(text, format='text')"
   ]
  },
  {
   "cell_type": "code",
   "execution_count": 20,
   "metadata": {},
   "outputs": [
    {
     "name": "stdout",
     "output_type": "stream",
     "text": [
      "lai_châu chuyên_viên kinh_doanh\n"
     ]
    }
   ],
   "source": [
    "print(text)"
   ]
  },
  {
   "cell_type": "code",
   "execution_count": 21,
   "metadata": {},
   "outputs": [],
   "source": [
    "tokens = remove_stopwords(text, ['ai_đó'])"
   ]
  },
  {
   "cell_type": "code",
   "execution_count": 22,
   "metadata": {},
   "outputs": [
    {
     "name": "stdout",
     "output_type": "stream",
     "text": [
      "['lai_châu', 'chuyên_viên', 'kinh_doanh']\n"
     ]
    }
   ],
   "source": [
    "print(tokens)"
   ]
  },
  {
   "cell_type": "code",
   "execution_count": 23,
   "metadata": {},
   "outputs": [],
   "source": [
    "tokens = [token for token in tokens]"
   ]
  },
  {
   "cell_type": "code",
   "execution_count": 24,
   "metadata": {},
   "outputs": [
    {
     "name": "stdout",
     "output_type": "stream",
     "text": [
      "['lai_châu', 'chuyên_viên', 'kinh_doanh']\n"
     ]
    }
   ],
   "source": [
    "print(tokens)"
   ]
  },
  {
   "cell_type": "code",
   "execution_count": 22,
   "metadata": {},
   "outputs": [
    {
     "name": "stdout",
     "output_type": "stream",
     "text": [
      "lai châu chuyên viên kinh doanh\n"
     ]
    }
   ],
   "source": [
    "\n",
    "text = '[LAI CHÂU] CHUYÊN VIÊN KINH DOANH'\n",
    "print(clean_text(text.lower()))"
   ]
  },
  {
   "cell_type": "code",
   "execution_count": null,
   "metadata": {},
   "outputs": [],
   "source": [
    "def test_remove_stopwords(self):\n",
    "        text = 'ai đó đấy a thủ tướng'\n",
    "        stopwords_set = {'ai', 'đó', 'đấy', 'a'}\n",
    "        tokens = remove_stopwords(text, stopwords_set)\n",
    "        for token in tokens:\n",
    "            print(token)"
   ]
  },
  {
   "cell_type": "code",
   "execution_count": null,
   "metadata": {},
   "outputs": [],
   "source": []
  },
  {
   "cell_type": "code",
   "execution_count": 17,
   "metadata": {},
   "outputs": [
    {
     "name": "stdout",
     "output_type": "stream",
     "text": [
      "['text']\n"
     ]
    }
   ],
   "source": [
    "\n",
    "text = \"'[LAI CHÂU] CHUYÊN VIÊN KINH DOANH\"\n",
    "stopwords_set = {'ai_đó', 'alô', 'và', 'sau_đây'}\n",
    "tokens = preprocess_text(text, stopwords_set)\n",
    "print(tokens)\n"
   ]
  }
 ],
 "metadata": {
  "kernelspec": {
   "display_name": "Python 3",
   "language": "python",
   "name": "python3"
  },
  "language_info": {
   "codemirror_mode": {
    "name": "ipython",
    "version": 3
   },
   "file_extension": ".py",
   "mimetype": "text/x-python",
   "name": "python",
   "nbconvert_exporter": "python",
   "pygments_lexer": "ipython3",
   "version": "3.11.5"
  }
 },
 "nbformat": 4,
 "nbformat_minor": 2
}
